{
 "cells": [
  {
   "cell_type": "code",
   "execution_count": 1,
   "id": "ecf69a58-705c-47b1-9490-3e7b1dcfe178",
   "metadata": {},
   "outputs": [],
   "source": [
    "#importing the spacy module\n",
    "import spacy"
   ]
  },
  {
   "cell_type": "code",
   "execution_count": 2,
   "id": "1aaf82a1-bdcb-4230-b184-149cda499dbb",
   "metadata": {},
   "outputs": [],
   "source": [
    "#loading the spanish language model\n",
    "nlp = spacy.load('es_core_news_sm')"
   ]
  },
  {
   "cell_type": "code",
   "execution_count": 3,
   "id": "d232d7d4-30f7-467d-8331-fc5aa127fbd5",
   "metadata": {},
   "outputs": [],
   "source": [
    "#processing a spanish sentence\n",
    "doc = nlp('Mi nombre es Radhika.')"
   ]
  },
  {
   "cell_type": "code",
   "execution_count": 4,
   "id": "75133118-f0ac-4f20-aef9-0f7c28b7528a",
   "metadata": {},
   "outputs": [
    {
     "name": "stdout",
     "output_type": "stream",
     "text": [
      "Mi DET det\n",
      "nombre NOUN nsubj\n",
      "es AUX cop\n",
      "Radhika PROPN ROOT\n",
      ". PUNCT punct\n"
     ]
    }
   ],
   "source": [
    "#printing each token from the given spanish sentence\n",
    "for token in doc:\n",
    "    print(token.text, token.pos_, token.dep_)"
   ]
  },
  {
   "cell_type": "code",
   "execution_count": 5,
   "id": "c575871e-b37f-4b2c-8918-3745b445af20",
   "metadata": {},
   "outputs": [
    {
     "data": {
      "text/plain": [
       "Mi"
      ]
     },
     "execution_count": 5,
     "metadata": {},
     "output_type": "execute_result"
    }
   ],
   "source": [
    "doc[0]"
   ]
  },
  {
   "cell_type": "code",
   "execution_count": 6,
   "id": "f55463ab-30fe-48fa-a4af-af965b427f6c",
   "metadata": {},
   "outputs": [
    {
     "data": {
      "text/plain": [
       "nombre"
      ]
     },
     "execution_count": 6,
     "metadata": {},
     "output_type": "execute_result"
    }
   ],
   "source": [
    "doc[1]"
   ]
  },
  {
   "cell_type": "code",
   "execution_count": 7,
   "id": "f87fcee1-b2bd-4fea-88fc-8b3ed718ae25",
   "metadata": {},
   "outputs": [
    {
     "data": {
      "text/plain": [
       "es"
      ]
     },
     "execution_count": 7,
     "metadata": {},
     "output_type": "execute_result"
    }
   ],
   "source": [
    "doc[2]"
   ]
  },
  {
   "cell_type": "code",
   "execution_count": 8,
   "id": "0fe816dc-99fc-43f8-ad21-33a3f347c0cd",
   "metadata": {},
   "outputs": [
    {
     "data": {
      "text/plain": [
       "Radhika"
      ]
     },
     "execution_count": 8,
     "metadata": {},
     "output_type": "execute_result"
    }
   ],
   "source": [
    "doc[3]"
   ]
  },
  {
   "cell_type": "code",
   "execution_count": 9,
   "id": "cdc0a099-a9e9-40b0-9505-90d08df2c1c0",
   "metadata": {},
   "outputs": [
    {
     "data": {
      "text/plain": [
       "."
      ]
     },
     "execution_count": 9,
     "metadata": {},
     "output_type": "execute_result"
    }
   ],
   "source": [
    "doc[4]"
   ]
  },
  {
   "cell_type": "code",
   "execution_count": 10,
   "id": "6299b4a1-07f0-4ab5-9434-67ebedf4921e",
   "metadata": {},
   "outputs": [
    {
     "ename": "AttributeError",
     "evalue": "'spacy.tokens.span.Span' object has no attribute 'text_'",
     "output_type": "error",
     "traceback": [
      "\u001b[0;31m---------------------------------------------------------------------------\u001b[0m",
      "\u001b[0;31mAttributeError\u001b[0m                            Traceback (most recent call last)",
      "Cell \u001b[0;32mIn[10], line 3\u001b[0m\n\u001b[1;32m      1\u001b[0m \u001b[38;5;66;03m#using for loop we are trying to understand the attributes of the sentence like the text entity, its label and and explanation of the entitiy label\u001b[39;00m\n\u001b[1;32m      2\u001b[0m \u001b[38;5;28;01mfor\u001b[39;00m ent \u001b[38;5;129;01min\u001b[39;00m doc\u001b[38;5;241m.\u001b[39ments:\n\u001b[0;32m----> 3\u001b[0m     \u001b[38;5;28mprint\u001b[39m(\u001b[43ment\u001b[49m\u001b[38;5;241;43m.\u001b[39;49m\u001b[43mtext_\u001b[49m \u001b[38;5;241m+\u001b[39m \u001b[38;5;124m\"\u001b[39m\u001b[38;5;124m - \u001b[39m\u001b[38;5;124m\"\u001b[39m \u001b[38;5;241m+\u001b[39m ent\u001b[38;5;241m.\u001b[39mlabel_ \u001b[38;5;241m+\u001b[39m \u001b[38;5;124m\"\u001b[39m\u001b[38;5;124m - \u001b[39m\u001b[38;5;124m\"\u001b[39m \u001b[38;5;241m+\u001b[39m \u001b[38;5;28mstr\u001b[39m(spacy\u001b[38;5;241m.\u001b[39mexplain(ent\u001b[38;5;241m.\u001b[39mlabel_)))\n",
      "\u001b[0;31mAttributeError\u001b[0m: 'spacy.tokens.span.Span' object has no attribute 'text_'"
     ]
    }
   ],
   "source": [
    "#using for loop we are trying to understand the attributes of the sentence like the text entity, its label and and explanation of the entitiy label\n",
    "for ent in doc.ents:\n",
    "    print(ent.text_ + \" - \" + ent.label_ + \" - \" + str(spacy.explain(ent.label_)))"
   ]
  },
  {
   "cell_type": "markdown",
   "id": "9c20c9dd-e64e-4063-ad93-b19a9c9a684b",
   "metadata": {
    "jp-MarkdownHeadingCollapsed": true
   },
   "source": [
    "The spacy library, doesn't tokenize words for the spanish language"
   ]
  }
 ],
 "metadata": {
  "kernelspec": {
   "display_name": "Python 3 (ipykernel)",
   "language": "python",
   "name": "python3"
  },
  "language_info": {
   "codemirror_mode": {
    "name": "ipython",
    "version": 3
   },
   "file_extension": ".py",
   "mimetype": "text/x-python",
   "name": "python",
   "nbconvert_exporter": "python",
   "pygments_lexer": "ipython3",
   "version": "3.10.12"
  }
 },
 "nbformat": 4,
 "nbformat_minor": 5
}
